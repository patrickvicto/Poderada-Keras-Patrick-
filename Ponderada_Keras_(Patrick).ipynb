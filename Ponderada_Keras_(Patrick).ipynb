{
  "cells": [
    {
      "cell_type": "markdown",
      "metadata": {
        "id": "UdEdZDi_iEei"
      },
      "source": [
        "# Atividade Kera (Patrick)"
      ]
    },
    {
      "cell_type": "code",
      "execution_count": 9,
      "metadata": {},
      "outputs": [
        {
          "name": "stdout",
          "output_type": "stream",
          "text": [
            "Defaulting to user installation because normal site-packages is not writeable\n",
            "Requirement already satisfied: pandas in c:\\users\\patri\\appdata\\local\\packages\\pythonsoftwarefoundation.python.3.12_qbz5n2kfra8p0\\localcache\\local-packages\\python312\\site-packages (2.2.2)\n",
            "Requirement already satisfied: tensorflow in c:\\users\\patri\\appdata\\local\\packages\\pythonsoftwarefoundation.python.3.12_qbz5n2kfra8p0\\localcache\\local-packages\\python312\\site-packages (2.17.0)\n",
            "Requirement already satisfied: numpy in c:\\users\\patri\\appdata\\local\\packages\\pythonsoftwarefoundation.python.3.12_qbz5n2kfra8p0\\localcache\\local-packages\\python312\\site-packages (1.26.4)\n",
            "Requirement already satisfied: python-dateutil>=2.8.2 in c:\\users\\patri\\appdata\\local\\packages\\pythonsoftwarefoundation.python.3.12_qbz5n2kfra8p0\\localcache\\local-packages\\python312\\site-packages (from pandas) (2.9.0.post0)\n",
            "Requirement already satisfied: pytz>=2020.1 in c:\\users\\patri\\appdata\\local\\packages\\pythonsoftwarefoundation.python.3.12_qbz5n2kfra8p0\\localcache\\local-packages\\python312\\site-packages (from pandas) (2024.1)\n",
            "Requirement already satisfied: tzdata>=2022.7 in c:\\users\\patri\\appdata\\local\\packages\\pythonsoftwarefoundation.python.3.12_qbz5n2kfra8p0\\localcache\\local-packages\\python312\\site-packages (from pandas) (2024.1)\n",
            "Requirement already satisfied: tensorflow-intel==2.17.0 in c:\\users\\patri\\appdata\\local\\packages\\pythonsoftwarefoundation.python.3.12_qbz5n2kfra8p0\\localcache\\local-packages\\python312\\site-packages (from tensorflow) (2.17.0)\n",
            "Requirement already satisfied: absl-py>=1.0.0 in c:\\users\\patri\\appdata\\local\\packages\\pythonsoftwarefoundation.python.3.12_qbz5n2kfra8p0\\localcache\\local-packages\\python312\\site-packages (from tensorflow-intel==2.17.0->tensorflow) (2.1.0)\n",
            "Requirement already satisfied: astunparse>=1.6.0 in c:\\users\\patri\\appdata\\local\\packages\\pythonsoftwarefoundation.python.3.12_qbz5n2kfra8p0\\localcache\\local-packages\\python312\\site-packages (from tensorflow-intel==2.17.0->tensorflow) (1.6.3)\n",
            "Requirement already satisfied: flatbuffers>=24.3.25 in c:\\users\\patri\\appdata\\local\\packages\\pythonsoftwarefoundation.python.3.12_qbz5n2kfra8p0\\localcache\\local-packages\\python312\\site-packages (from tensorflow-intel==2.17.0->tensorflow) (24.3.25)\n",
            "Requirement already satisfied: gast!=0.5.0,!=0.5.1,!=0.5.2,>=0.2.1 in c:\\users\\patri\\appdata\\local\\packages\\pythonsoftwarefoundation.python.3.12_qbz5n2kfra8p0\\localcache\\local-packages\\python312\\site-packages (from tensorflow-intel==2.17.0->tensorflow) (0.6.0)\n",
            "Requirement already satisfied: google-pasta>=0.1.1 in c:\\users\\patri\\appdata\\local\\packages\\pythonsoftwarefoundation.python.3.12_qbz5n2kfra8p0\\localcache\\local-packages\\python312\\site-packages (from tensorflow-intel==2.17.0->tensorflow) (0.2.0)\n",
            "Requirement already satisfied: h5py>=3.10.0 in c:\\users\\patri\\appdata\\local\\packages\\pythonsoftwarefoundation.python.3.12_qbz5n2kfra8p0\\localcache\\local-packages\\python312\\site-packages (from tensorflow-intel==2.17.0->tensorflow) (3.11.0)\n",
            "Requirement already satisfied: libclang>=13.0.0 in c:\\users\\patri\\appdata\\local\\packages\\pythonsoftwarefoundation.python.3.12_qbz5n2kfra8p0\\localcache\\local-packages\\python312\\site-packages (from tensorflow-intel==2.17.0->tensorflow) (18.1.1)\n",
            "Requirement already satisfied: ml-dtypes<0.5.0,>=0.3.1 in c:\\users\\patri\\appdata\\local\\packages\\pythonsoftwarefoundation.python.3.12_qbz5n2kfra8p0\\localcache\\local-packages\\python312\\site-packages (from tensorflow-intel==2.17.0->tensorflow) (0.4.0)\n",
            "Requirement already satisfied: opt-einsum>=2.3.2 in c:\\users\\patri\\appdata\\local\\packages\\pythonsoftwarefoundation.python.3.12_qbz5n2kfra8p0\\localcache\\local-packages\\python312\\site-packages (from tensorflow-intel==2.17.0->tensorflow) (3.3.0)\n",
            "Requirement already satisfied: packaging in c:\\users\\patri\\appdata\\local\\packages\\pythonsoftwarefoundation.python.3.12_qbz5n2kfra8p0\\localcache\\local-packages\\python312\\site-packages (from tensorflow-intel==2.17.0->tensorflow) (24.1)\n",
            "Requirement already satisfied: protobuf!=4.21.0,!=4.21.1,!=4.21.2,!=4.21.3,!=4.21.4,!=4.21.5,<5.0.0dev,>=3.20.3 in c:\\users\\patri\\appdata\\local\\packages\\pythonsoftwarefoundation.python.3.12_qbz5n2kfra8p0\\localcache\\local-packages\\python312\\site-packages (from tensorflow-intel==2.17.0->tensorflow) (4.25.4)\n",
            "Requirement already satisfied: requests<3,>=2.21.0 in c:\\users\\patri\\appdata\\local\\packages\\pythonsoftwarefoundation.python.3.12_qbz5n2kfra8p0\\localcache\\local-packages\\python312\\site-packages (from tensorflow-intel==2.17.0->tensorflow) (2.32.3)\n",
            "Requirement already satisfied: setuptools in c:\\users\\patri\\appdata\\local\\packages\\pythonsoftwarefoundation.python.3.12_qbz5n2kfra8p0\\localcache\\local-packages\\python312\\site-packages (from tensorflow-intel==2.17.0->tensorflow) (72.2.0)\n",
            "Requirement already satisfied: six>=1.12.0 in c:\\users\\patri\\appdata\\local\\packages\\pythonsoftwarefoundation.python.3.12_qbz5n2kfra8p0\\localcache\\local-packages\\python312\\site-packages (from tensorflow-intel==2.17.0->tensorflow) (1.16.0)\n",
            "Requirement already satisfied: termcolor>=1.1.0 in c:\\users\\patri\\appdata\\local\\packages\\pythonsoftwarefoundation.python.3.12_qbz5n2kfra8p0\\localcache\\local-packages\\python312\\site-packages (from tensorflow-intel==2.17.0->tensorflow) (2.4.0)\n",
            "Requirement already satisfied: typing-extensions>=3.6.6 in c:\\users\\patri\\appdata\\local\\packages\\pythonsoftwarefoundation.python.3.12_qbz5n2kfra8p0\\localcache\\local-packages\\python312\\site-packages (from tensorflow-intel==2.17.0->tensorflow) (4.12.2)\n",
            "Requirement already satisfied: wrapt>=1.11.0 in c:\\users\\patri\\appdata\\local\\packages\\pythonsoftwarefoundation.python.3.12_qbz5n2kfra8p0\\localcache\\local-packages\\python312\\site-packages (from tensorflow-intel==2.17.0->tensorflow) (1.16.0)\n",
            "Requirement already satisfied: grpcio<2.0,>=1.24.3 in c:\\users\\patri\\appdata\\local\\packages\\pythonsoftwarefoundation.python.3.12_qbz5n2kfra8p0\\localcache\\local-packages\\python312\\site-packages (from tensorflow-intel==2.17.0->tensorflow) (1.65.5)\n",
            "Requirement already satisfied: tensorboard<2.18,>=2.17 in c:\\users\\patri\\appdata\\local\\packages\\pythonsoftwarefoundation.python.3.12_qbz5n2kfra8p0\\localcache\\local-packages\\python312\\site-packages (from tensorflow-intel==2.17.0->tensorflow) (2.17.1)\n",
            "Requirement already satisfied: keras>=3.2.0 in c:\\users\\patri\\appdata\\local\\packages\\pythonsoftwarefoundation.python.3.12_qbz5n2kfra8p0\\localcache\\local-packages\\python312\\site-packages (from tensorflow-intel==2.17.0->tensorflow) (3.5.0)\n",
            "Requirement already satisfied: wheel<1.0,>=0.23.0 in c:\\users\\patri\\appdata\\local\\packages\\pythonsoftwarefoundation.python.3.12_qbz5n2kfra8p0\\localcache\\local-packages\\python312\\site-packages (from astunparse>=1.6.0->tensorflow-intel==2.17.0->tensorflow) (0.44.0)\n",
            "Requirement already satisfied: rich in c:\\users\\patri\\appdata\\local\\packages\\pythonsoftwarefoundation.python.3.12_qbz5n2kfra8p0\\localcache\\local-packages\\python312\\site-packages (from keras>=3.2.0->tensorflow-intel==2.17.0->tensorflow) (13.7.1)\n",
            "Requirement already satisfied: namex in c:\\users\\patri\\appdata\\local\\packages\\pythonsoftwarefoundation.python.3.12_qbz5n2kfra8p0\\localcache\\local-packages\\python312\\site-packages (from keras>=3.2.0->tensorflow-intel==2.17.0->tensorflow) (0.0.8)\n",
            "Requirement already satisfied: optree in c:\\users\\patri\\appdata\\local\\packages\\pythonsoftwarefoundation.python.3.12_qbz5n2kfra8p0\\localcache\\local-packages\\python312\\site-packages (from keras>=3.2.0->tensorflow-intel==2.17.0->tensorflow) (0.12.1)\n",
            "Requirement already satisfied: charset-normalizer<4,>=2 in c:\\users\\patri\\appdata\\local\\packages\\pythonsoftwarefoundation.python.3.12_qbz5n2kfra8p0\\localcache\\local-packages\\python312\\site-packages (from requests<3,>=2.21.0->tensorflow-intel==2.17.0->tensorflow) (3.3.2)\n",
            "Requirement already satisfied: idna<4,>=2.5 in c:\\users\\patri\\appdata\\local\\packages\\pythonsoftwarefoundation.python.3.12_qbz5n2kfra8p0\\localcache\\local-packages\\python312\\site-packages (from requests<3,>=2.21.0->tensorflow-intel==2.17.0->tensorflow) (3.7)\n",
            "Requirement already satisfied: urllib3<3,>=1.21.1 in c:\\users\\patri\\appdata\\local\\packages\\pythonsoftwarefoundation.python.3.12_qbz5n2kfra8p0\\localcache\\local-packages\\python312\\site-packages (from requests<3,>=2.21.0->tensorflow-intel==2.17.0->tensorflow) (2.2.2)\n",
            "Requirement already satisfied: certifi>=2017.4.17 in c:\\users\\patri\\appdata\\local\\packages\\pythonsoftwarefoundation.python.3.12_qbz5n2kfra8p0\\localcache\\local-packages\\python312\\site-packages (from requests<3,>=2.21.0->tensorflow-intel==2.17.0->tensorflow) (2024.7.4)\n",
            "Requirement already satisfied: markdown>=2.6.8 in c:\\users\\patri\\appdata\\local\\packages\\pythonsoftwarefoundation.python.3.12_qbz5n2kfra8p0\\localcache\\local-packages\\python312\\site-packages (from tensorboard<2.18,>=2.17->tensorflow-intel==2.17.0->tensorflow) (3.7)\n",
            "Requirement already satisfied: tensorboard-data-server<0.8.0,>=0.7.0 in c:\\users\\patri\\appdata\\local\\packages\\pythonsoftwarefoundation.python.3.12_qbz5n2kfra8p0\\localcache\\local-packages\\python312\\site-packages (from tensorboard<2.18,>=2.17->tensorflow-intel==2.17.0->tensorflow) (0.7.2)\n",
            "Requirement already satisfied: werkzeug>=1.0.1 in c:\\users\\patri\\appdata\\local\\packages\\pythonsoftwarefoundation.python.3.12_qbz5n2kfra8p0\\localcache\\local-packages\\python312\\site-packages (from tensorboard<2.18,>=2.17->tensorflow-intel==2.17.0->tensorflow) (3.0.3)\n",
            "Requirement already satisfied: MarkupSafe>=2.1.1 in c:\\users\\patri\\appdata\\local\\packages\\pythonsoftwarefoundation.python.3.12_qbz5n2kfra8p0\\localcache\\local-packages\\python312\\site-packages (from werkzeug>=1.0.1->tensorboard<2.18,>=2.17->tensorflow-intel==2.17.0->tensorflow) (2.1.5)\n",
            "Requirement already satisfied: markdown-it-py>=2.2.0 in c:\\users\\patri\\appdata\\local\\packages\\pythonsoftwarefoundation.python.3.12_qbz5n2kfra8p0\\localcache\\local-packages\\python312\\site-packages (from rich->keras>=3.2.0->tensorflow-intel==2.17.0->tensorflow) (3.0.0)\n",
            "Requirement already satisfied: pygments<3.0.0,>=2.13.0 in c:\\users\\patri\\appdata\\local\\packages\\pythonsoftwarefoundation.python.3.12_qbz5n2kfra8p0\\localcache\\local-packages\\python312\\site-packages (from rich->keras>=3.2.0->tensorflow-intel==2.17.0->tensorflow) (2.18.0)\n",
            "Requirement already satisfied: mdurl~=0.1 in c:\\users\\patri\\appdata\\local\\packages\\pythonsoftwarefoundation.python.3.12_qbz5n2kfra8p0\\localcache\\local-packages\\python312\\site-packages (from markdown-it-py>=2.2.0->rich->keras>=3.2.0->tensorflow-intel==2.17.0->tensorflow) (0.1.2)\n"
          ]
        }
      ],
      "source": [
        "!pip install pandas tensorflow numpy "
      ]
    },
    {
      "cell_type": "code",
      "execution_count": 10,
      "metadata": {
        "id": "ZIpJsBZ94d_e"
      },
      "outputs": [],
      "source": [
        "# Importação de bibliotecas\n",
        "import pandas as pd\n",
        "import tensorflow as tf\n",
        "from tensorflow import keras\n",
        "from keras import layers\n",
        "from keras import metrics\n",
        "import numpy as np"
      ]
    },
    {
      "cell_type": "markdown",
      "metadata": {
        "id": "GmfAlkQ3iM-a"
      },
      "source": [
        "## Importação dos dados"
      ]
    },
    {
      "cell_type": "code",
      "execution_count": 11,
      "metadata": {
        "colab": {
          "base_uri": "https://localhost:8080/"
        },
        "id": "TCxJ-3fegx1t",
        "outputId": "8ec35756-dd2d-418b-c9af-e6dc083bc4f5"
      },
      "outputs": [],
      "source": [
        "df = pd.read_csv('mushroom_cleaned.csv')"
      ]
    },
    {
      "cell_type": "markdown",
      "metadata": {
        "id": "Vbd0GESgin5T"
      },
      "source": [
        "Visualização dos dados:"
      ]
    },
    {
      "cell_type": "code",
      "execution_count": 12,
      "metadata": {
        "colab": {
          "base_uri": "https://localhost:8080/",
          "height": 423
        },
        "id": "_MS_8zVrijJZ",
        "outputId": "50a6ef69-3b6e-4dc1-d043-f3a4ab3d3ee1"
      },
      "outputs": [
        {
          "data": {
            "text/html": [
              "<div>\n",
              "<style scoped>\n",
              "    .dataframe tbody tr th:only-of-type {\n",
              "        vertical-align: middle;\n",
              "    }\n",
              "\n",
              "    .dataframe tbody tr th {\n",
              "        vertical-align: top;\n",
              "    }\n",
              "\n",
              "    .dataframe thead th {\n",
              "        text-align: right;\n",
              "    }\n",
              "</style>\n",
              "<table border=\"1\" class=\"dataframe\">\n",
              "  <thead>\n",
              "    <tr style=\"text-align: right;\">\n",
              "      <th></th>\n",
              "      <th>cap-diameter</th>\n",
              "      <th>cap-shape</th>\n",
              "      <th>gill-attachment</th>\n",
              "      <th>gill-color</th>\n",
              "      <th>stem-height</th>\n",
              "      <th>stem-width</th>\n",
              "      <th>stem-color</th>\n",
              "      <th>season</th>\n",
              "      <th>class</th>\n",
              "    </tr>\n",
              "  </thead>\n",
              "  <tbody>\n",
              "    <tr>\n",
              "      <th>0</th>\n",
              "      <td>1372</td>\n",
              "      <td>2</td>\n",
              "      <td>2</td>\n",
              "      <td>10</td>\n",
              "      <td>3.807467</td>\n",
              "      <td>1545</td>\n",
              "      <td>11</td>\n",
              "      <td>1.804273</td>\n",
              "      <td>1</td>\n",
              "    </tr>\n",
              "    <tr>\n",
              "      <th>1</th>\n",
              "      <td>1461</td>\n",
              "      <td>2</td>\n",
              "      <td>2</td>\n",
              "      <td>10</td>\n",
              "      <td>3.807467</td>\n",
              "      <td>1557</td>\n",
              "      <td>11</td>\n",
              "      <td>1.804273</td>\n",
              "      <td>1</td>\n",
              "    </tr>\n",
              "    <tr>\n",
              "      <th>2</th>\n",
              "      <td>1371</td>\n",
              "      <td>2</td>\n",
              "      <td>2</td>\n",
              "      <td>10</td>\n",
              "      <td>3.612496</td>\n",
              "      <td>1566</td>\n",
              "      <td>11</td>\n",
              "      <td>1.804273</td>\n",
              "      <td>1</td>\n",
              "    </tr>\n",
              "    <tr>\n",
              "      <th>3</th>\n",
              "      <td>1261</td>\n",
              "      <td>6</td>\n",
              "      <td>2</td>\n",
              "      <td>10</td>\n",
              "      <td>3.787572</td>\n",
              "      <td>1566</td>\n",
              "      <td>11</td>\n",
              "      <td>1.804273</td>\n",
              "      <td>1</td>\n",
              "    </tr>\n",
              "    <tr>\n",
              "      <th>4</th>\n",
              "      <td>1305</td>\n",
              "      <td>6</td>\n",
              "      <td>2</td>\n",
              "      <td>10</td>\n",
              "      <td>3.711971</td>\n",
              "      <td>1464</td>\n",
              "      <td>11</td>\n",
              "      <td>0.943195</td>\n",
              "      <td>1</td>\n",
              "    </tr>\n",
              "    <tr>\n",
              "      <th>...</th>\n",
              "      <td>...</td>\n",
              "      <td>...</td>\n",
              "      <td>...</td>\n",
              "      <td>...</td>\n",
              "      <td>...</td>\n",
              "      <td>...</td>\n",
              "      <td>...</td>\n",
              "      <td>...</td>\n",
              "      <td>...</td>\n",
              "    </tr>\n",
              "    <tr>\n",
              "      <th>54030</th>\n",
              "      <td>73</td>\n",
              "      <td>5</td>\n",
              "      <td>3</td>\n",
              "      <td>2</td>\n",
              "      <td>0.887740</td>\n",
              "      <td>569</td>\n",
              "      <td>12</td>\n",
              "      <td>0.943195</td>\n",
              "      <td>1</td>\n",
              "    </tr>\n",
              "    <tr>\n",
              "      <th>54031</th>\n",
              "      <td>82</td>\n",
              "      <td>2</td>\n",
              "      <td>3</td>\n",
              "      <td>2</td>\n",
              "      <td>1.186164</td>\n",
              "      <td>490</td>\n",
              "      <td>12</td>\n",
              "      <td>0.943195</td>\n",
              "      <td>1</td>\n",
              "    </tr>\n",
              "    <tr>\n",
              "      <th>54032</th>\n",
              "      <td>82</td>\n",
              "      <td>5</td>\n",
              "      <td>3</td>\n",
              "      <td>2</td>\n",
              "      <td>0.915593</td>\n",
              "      <td>584</td>\n",
              "      <td>12</td>\n",
              "      <td>0.888450</td>\n",
              "      <td>1</td>\n",
              "    </tr>\n",
              "    <tr>\n",
              "      <th>54033</th>\n",
              "      <td>79</td>\n",
              "      <td>2</td>\n",
              "      <td>3</td>\n",
              "      <td>2</td>\n",
              "      <td>1.034963</td>\n",
              "      <td>491</td>\n",
              "      <td>12</td>\n",
              "      <td>0.888450</td>\n",
              "      <td>1</td>\n",
              "    </tr>\n",
              "    <tr>\n",
              "      <th>54034</th>\n",
              "      <td>72</td>\n",
              "      <td>5</td>\n",
              "      <td>3</td>\n",
              "      <td>2</td>\n",
              "      <td>1.158311</td>\n",
              "      <td>492</td>\n",
              "      <td>12</td>\n",
              "      <td>0.888450</td>\n",
              "      <td>1</td>\n",
              "    </tr>\n",
              "  </tbody>\n",
              "</table>\n",
              "<p>54035 rows × 9 columns</p>\n",
              "</div>"
            ],
            "text/plain": [
              "       cap-diameter  cap-shape  gill-attachment  gill-color  stem-height  \\\n",
              "0              1372          2                2          10     3.807467   \n",
              "1              1461          2                2          10     3.807467   \n",
              "2              1371          2                2          10     3.612496   \n",
              "3              1261          6                2          10     3.787572   \n",
              "4              1305          6                2          10     3.711971   \n",
              "...             ...        ...              ...         ...          ...   \n",
              "54030            73          5                3           2     0.887740   \n",
              "54031            82          2                3           2     1.186164   \n",
              "54032            82          5                3           2     0.915593   \n",
              "54033            79          2                3           2     1.034963   \n",
              "54034            72          5                3           2     1.158311   \n",
              "\n",
              "       stem-width  stem-color    season  class  \n",
              "0            1545          11  1.804273      1  \n",
              "1            1557          11  1.804273      1  \n",
              "2            1566          11  1.804273      1  \n",
              "3            1566          11  1.804273      1  \n",
              "4            1464          11  0.943195      1  \n",
              "...           ...         ...       ...    ...  \n",
              "54030         569          12  0.943195      1  \n",
              "54031         490          12  0.943195      1  \n",
              "54032         584          12  0.888450      1  \n",
              "54033         491          12  0.888450      1  \n",
              "54034         492          12  0.888450      1  \n",
              "\n",
              "[54035 rows x 9 columns]"
            ]
          },
          "execution_count": 12,
          "metadata": {},
          "output_type": "execute_result"
        }
      ],
      "source": [
        "df"
      ]
    },
    {
      "cell_type": "markdown",
      "metadata": {
        "id": "vHwyWhialuQO"
      },
      "source": [
        "## Explicando o conjunto de dados"
      ]
    },
    {
      "cell_type": "markdown",
      "metadata": {
        "id": "R_nzrxKFlzQ_"
      },
      "source": [
        "O conjunto de dados escolhido possui dados sobre 54035 cogumelos tendo assim 534035 linhas de dados. Os quais cada uma possui 9 colunas as quais representam características do cogumelo como:\n",
        "\n",
        "\n",
        "* Cap Diameter: Diâmetro do chapéu do cogumelo.\n",
        "* Cap Shape: Forma do chapéu do cogumelo.\n",
        "* Gill Attachment: Como as lamelas estão ligadas ao caule.\n",
        "* Gill Color: Cor das lamelas do cogumelo.\n",
        "* Stem Height: Altura do caule do cogumelo.\n",
        "* Stem Width: Largura do caule do cogumelo.\n",
        "* Stem Color: Cor do caule do cogumelo.\n",
        "* Season: Época do ano em que o cogumelo aparece.\n",
        "\n",
        "\n",
        "As quais são utilizadas visando a identificação do target \"class\", o qual classifica o cogumelo como comestível ou venenoso, sendo 0 para comestível e 1 para venenoso.\n"
      ]
    },
    {
      "cell_type": "markdown",
      "metadata": {
        "id": "1lISdgsoDXdk"
      },
      "source": [
        "## Criação do modelo"
      ]
    },
    {
      "cell_type": "markdown",
      "metadata": {
        "id": "J6065LsqLYir"
      },
      "source": [
        "Abaixo está sendo criado o modelo com as métricas e componentes solicitados, sendo eles:\n",
        "\n",
        "\n",
        "* camada dense(1):\n",
        "\n",
        "\n",
        "Camada Dense: Camada totalmente conectada onde todos os neurônios têm ligações com a camada anterior, contribuindo para a captura de características dos dados. Neste caso, a camada possui uma única unidade de saída.\n",
        "\n",
        "\n",
        "* função de ativação(sigmoid):\n",
        "\n",
        "\n",
        "Função utilizada para calcular a saída do modelo. No caso da sigmoid, esse valor é mapeado para o intervalo entre 0 e 1.\n",
        "\n",
        "\n",
        "* Otimizador (adam):\n",
        "\n",
        "\n",
        "Ajusta dinamicamente as taxas de aprendizado para cada peso, otimizando a convergência e melhorando o treinamento do modelo.\n",
        "\n",
        "\n",
        "* função de Perda (binary_crossentropy):\n",
        "\n",
        "\n",
        "Mede a diferença entre as previsões do modelo e os valores reais, sendo adequada para problemas de classificação binária.\n",
        "\n",
        "\n",
        "* métrica (accuracy):\n",
        "\n",
        "\n",
        "Métrica utilizada para avaliar o modelo, no caso, a acurácia, que é baseada na porcentagem de previsões corretas feitas pelo modelo.\n",
        "\n",
        "\n",
        "* métrica (F1):\n",
        "\n",
        "\n",
        "Métrica utilizada para avaliação do modelo. A F1 combina precisão e recall, fornecendo uma métrica que leva em consideração ambos."
      ]
    },
    {
      "cell_type": "code",
      "execution_count": 13,
      "metadata": {
        "id": "i_AgFqKaDULU"
      },
      "outputs": [],
      "source": [
        "#Criando o modelo com 1 camada dense e função de ativação sigmoid\n",
        "model = keras.Sequential([\n",
        "    layers.Dense(units=1, activation='sigmoid')\n",
        "])\n",
        "\n",
        "# Compilando o modelo com otimizador adam, função de perda binary_crossentropy e metricas accuracy e f1\n",
        "model.compile(optimizer='adam',\n",
        "              loss='binary_crossentropy',\n",
        "              metrics=['accuracy', metrics.F1Score()])"
      ]
    },
    {
      "cell_type": "markdown",
      "metadata": {
        "id": "K_OXRx9KN2ey"
      },
      "source": [
        "## Treinamento de modelo"
      ]
    },
    {
      "cell_type": "markdown",
      "metadata": {
        "id": "Lgdanh1uFDG7"
      },
      "source": [
        "Primeiramente para evitar qualquer enviesamento do modelo os conjuntos de treino e teste serão separados, sendo 20% para teste e 80% para treino:\n"
      ]
    },
    {
      "cell_type": "code",
      "execution_count": 14,
      "metadata": {
        "id": "0mEToNxJFNi6"
      },
      "outputs": [],
      "source": [
        "# seprando variavel alvo\n",
        "X = df.drop('class', axis=1).values\n",
        "y = df['class'].values\n",
        "y = np.expand_dims(y, axis=-1)\n",
        "\n",
        "# Dividindo os em treino e teste\n",
        "dataset_size = len(X)\n",
        "train_size = int(dataset_size * 0.8)\n",
        "\n",
        "X_train, X_test = X[:train_size], X[train_size:]\n",
        "y_train, y_test = y[:train_size], y[train_size:]"
      ]
    },
    {
      "cell_type": "markdown",
      "metadata": {
        "id": "NhCje3EoOIIm"
      },
      "source": [
        "A seguir será realizado o treinamento do modelo, nas condições solicitadas 50 épocas e 10 de batch size:"
      ]
    },
    {
      "cell_type": "code",
      "execution_count": 15,
      "metadata": {
        "colab": {
          "base_uri": "https://localhost:8080/"
        },
        "id": "EryYecjQOIp2",
        "outputId": "3b3b60d3-dee7-4cef-f07b-32d5e70c0558"
      },
      "outputs": [
        {
          "name": "stdout",
          "output_type": "stream",
          "text": [
            "Epoch 1/50\n",
            "\u001b[1m4323/4323\u001b[0m \u001b[32m━━━━━━━━━━━━━━━━━━━━\u001b[0m\u001b[37m\u001b[0m \u001b[1m3s\u001b[0m 583us/step - accuracy: 0.5472 - f1_score: 0.7156 - loss: 15.1403 - val_accuracy: 0.6790 - val_f1_score: 0.6656 - val_loss: 1.1150\n",
            "Epoch 2/50\n",
            "\u001b[1m4323/4323\u001b[0m \u001b[32m━━━━━━━━━━━━━━━━━━━━\u001b[0m\u001b[37m\u001b[0m \u001b[1m2s\u001b[0m 561us/step - accuracy: 0.5891 - f1_score: 0.7186 - loss: 0.7129 - val_accuracy: 0.7380 - val_f1_score: 0.6656 - val_loss: 0.7091\n",
            "Epoch 3/50\n",
            "\u001b[1m4323/4323\u001b[0m \u001b[32m━━━━━━━━━━━━━━━━━━━━\u001b[0m\u001b[37m\u001b[0m \u001b[1m2s\u001b[0m 562us/step - accuracy: 0.5949 - f1_score: 0.7236 - loss: 0.7034 - val_accuracy: 0.5026 - val_f1_score: 0.6656 - val_loss: 0.6819\n",
            "Epoch 4/50\n",
            "\u001b[1m4323/4323\u001b[0m \u001b[32m━━━━━━━━━━━━━━━━━━━━\u001b[0m\u001b[37m\u001b[0m \u001b[1m2s\u001b[0m 563us/step - accuracy: 0.5965 - f1_score: 0.7181 - loss: 0.7116 - val_accuracy: 0.7196 - val_f1_score: 0.6656 - val_loss: 0.6821\n",
            "Epoch 5/50\n",
            "\u001b[1m4323/4323\u001b[0m \u001b[32m━━━━━━━━━━━━━━━━━━━━\u001b[0m\u001b[37m\u001b[0m \u001b[1m2s\u001b[0m 556us/step - accuracy: 0.6011 - f1_score: 0.7220 - loss: 0.6986 - val_accuracy: 0.4974 - val_f1_score: 0.6656 - val_loss: 0.7496\n",
            "Epoch 6/50\n",
            "\u001b[1m4323/4323\u001b[0m \u001b[32m━━━━━━━━━━━━━━━━━━━━\u001b[0m\u001b[37m\u001b[0m \u001b[1m2s\u001b[0m 563us/step - accuracy: 0.5993 - f1_score: 0.7185 - loss: 0.6975 - val_accuracy: 0.7376 - val_f1_score: 0.6656 - val_loss: 0.6925\n",
            "Epoch 7/50\n",
            "\u001b[1m4323/4323\u001b[0m \u001b[32m━━━━━━━━━━━━━━━━━━━━\u001b[0m\u001b[37m\u001b[0m \u001b[1m2s\u001b[0m 559us/step - accuracy: 0.5998 - f1_score: 0.7212 - loss: 0.7092 - val_accuracy: 0.7116 - val_f1_score: 0.6656 - val_loss: 0.8246\n",
            "Epoch 8/50\n",
            "\u001b[1m4323/4323\u001b[0m \u001b[32m━━━━━━━━━━━━━━━━━━━━\u001b[0m\u001b[37m\u001b[0m \u001b[1m2s\u001b[0m 557us/step - accuracy: 0.5955 - f1_score: 0.7185 - loss: 0.7015 - val_accuracy: 0.7154 - val_f1_score: 0.6656 - val_loss: 0.6649\n",
            "Epoch 9/50\n",
            "\u001b[1m4323/4323\u001b[0m \u001b[32m━━━━━━━━━━━━━━━━━━━━\u001b[0m\u001b[37m\u001b[0m \u001b[1m2s\u001b[0m 559us/step - accuracy: 0.6101 - f1_score: 0.7211 - loss: 0.7027 - val_accuracy: 0.5966 - val_f1_score: 0.6656 - val_loss: 0.6740\n",
            "Epoch 10/50\n",
            "\u001b[1m4323/4323\u001b[0m \u001b[32m━━━━━━━━━━━━━━━━━━━━\u001b[0m\u001b[37m\u001b[0m \u001b[1m2s\u001b[0m 569us/step - accuracy: 0.6015 - f1_score: 0.7218 - loss: 0.7052 - val_accuracy: 0.7169 - val_f1_score: 0.6656 - val_loss: 0.7735\n",
            "Epoch 11/50\n",
            "\u001b[1m4323/4323\u001b[0m \u001b[32m━━━━━━━━━━━━━━━━━━━━\u001b[0m\u001b[37m\u001b[0m \u001b[1m2s\u001b[0m 567us/step - accuracy: 0.6044 - f1_score: 0.7181 - loss: 0.6992 - val_accuracy: 0.6229 - val_f1_score: 0.6656 - val_loss: 0.6509\n",
            "Epoch 12/50\n",
            "\u001b[1m4323/4323\u001b[0m \u001b[32m━━━━━━━━━━━━━━━━━━━━\u001b[0m\u001b[37m\u001b[0m \u001b[1m3s\u001b[0m 588us/step - accuracy: 0.6013 - f1_score: 0.7188 - loss: 0.7014 - val_accuracy: 0.7140 - val_f1_score: 0.6656 - val_loss: 0.7750\n",
            "Epoch 13/50\n",
            "\u001b[1m4323/4323\u001b[0m \u001b[32m━━━━━━━━━━━━━━━━━━━━\u001b[0m\u001b[37m\u001b[0m \u001b[1m2s\u001b[0m 567us/step - accuracy: 0.5991 - f1_score: 0.7205 - loss: 0.7041 - val_accuracy: 0.6783 - val_f1_score: 0.6656 - val_loss: 0.6691\n",
            "Epoch 14/50\n",
            "\u001b[1m4323/4323\u001b[0m \u001b[32m━━━━━━━━━━━━━━━━━━━━\u001b[0m\u001b[37m\u001b[0m \u001b[1m2s\u001b[0m 562us/step - accuracy: 0.6054 - f1_score: 0.7181 - loss: 0.7035 - val_accuracy: 0.4961 - val_f1_score: 0.6656 - val_loss: 0.7652\n",
            "Epoch 15/50\n",
            "\u001b[1m4323/4323\u001b[0m \u001b[32m━━━━━━━━━━━━━━━━━━━━\u001b[0m\u001b[37m\u001b[0m \u001b[1m2s\u001b[0m 559us/step - accuracy: 0.6103 - f1_score: 0.7205 - loss: 0.6985 - val_accuracy: 0.4988 - val_f1_score: 0.6656 - val_loss: 1.3789\n",
            "Epoch 16/50\n",
            "\u001b[1m4323/4323\u001b[0m \u001b[32m━━━━━━━━━━━━━━━━━━━━\u001b[0m\u001b[37m\u001b[0m \u001b[1m3s\u001b[0m 583us/step - accuracy: 0.6013 - f1_score: 0.7179 - loss: 0.7055 - val_accuracy: 0.4941 - val_f1_score: 0.6656 - val_loss: 0.7761\n",
            "Epoch 17/50\n",
            "\u001b[1m4323/4323\u001b[0m \u001b[32m━━━━━━━━━━━━━━━━━━━━\u001b[0m\u001b[37m\u001b[0m \u001b[1m3s\u001b[0m 578us/step - accuracy: 0.6113 - f1_score: 0.7221 - loss: 0.6997 - val_accuracy: 0.4878 - val_f1_score: 0.6656 - val_loss: 0.9537\n",
            "Epoch 18/50\n",
            "\u001b[1m4323/4323\u001b[0m \u001b[32m━━━━━━━━━━━━━━━━━━━━\u001b[0m\u001b[37m\u001b[0m \u001b[1m2s\u001b[0m 563us/step - accuracy: 0.6067 - f1_score: 0.7202 - loss: 0.7024 - val_accuracy: 0.5503 - val_f1_score: 0.6656 - val_loss: 0.6635\n",
            "Epoch 19/50\n",
            "\u001b[1m4323/4323\u001b[0m \u001b[32m━━━━━━━━━━━━━━━━━━━━\u001b[0m\u001b[37m\u001b[0m \u001b[1m3s\u001b[0m 575us/step - accuracy: 0.6094 - f1_score: 0.7229 - loss: 0.7035 - val_accuracy: 0.4887 - val_f1_score: 0.6656 - val_loss: 0.7208\n",
            "Epoch 20/50\n",
            "\u001b[1m4323/4323\u001b[0m \u001b[32m━━━━━━━━━━━━━━━━━━━━\u001b[0m\u001b[37m\u001b[0m \u001b[1m2s\u001b[0m 556us/step - accuracy: 0.6073 - f1_score: 0.7211 - loss: 0.6996 - val_accuracy: 0.6504 - val_f1_score: 0.6656 - val_loss: 0.6430\n",
            "Epoch 21/50\n",
            "\u001b[1m4323/4323\u001b[0m \u001b[32m━━━━━━━━━━━━━━━━━━━━\u001b[0m\u001b[37m\u001b[0m \u001b[1m2s\u001b[0m 564us/step - accuracy: 0.6059 - f1_score: 0.7187 - loss: 0.7104 - val_accuracy: 0.5390 - val_f1_score: 0.6656 - val_loss: 0.6689\n",
            "Epoch 22/50\n",
            "\u001b[1m4323/4323\u001b[0m \u001b[32m━━━━━━━━━━━━━━━━━━━━\u001b[0m\u001b[37m\u001b[0m \u001b[1m2s\u001b[0m 569us/step - accuracy: 0.6009 - f1_score: 0.7173 - loss: 0.7144 - val_accuracy: 0.7069 - val_f1_score: 0.6656 - val_loss: 0.8432\n",
            "Epoch 23/50\n",
            "\u001b[1m4323/4323\u001b[0m \u001b[32m━━━━━━━━━━━━━━━━━━━━\u001b[0m\u001b[37m\u001b[0m \u001b[1m2s\u001b[0m 562us/step - accuracy: 0.6087 - f1_score: 0.7198 - loss: 0.7070 - val_accuracy: 0.6928 - val_f1_score: 0.6656 - val_loss: 1.0014\n",
            "Epoch 24/50\n",
            "\u001b[1m4323/4323\u001b[0m \u001b[32m━━━━━━━━━━━━━━━━━━━━\u001b[0m\u001b[37m\u001b[0m \u001b[1m2s\u001b[0m 560us/step - accuracy: 0.6009 - f1_score: 0.7206 - loss: 0.7138 - val_accuracy: 0.5472 - val_f1_score: 0.6656 - val_loss: 0.6556\n",
            "Epoch 25/50\n",
            "\u001b[1m4323/4323\u001b[0m \u001b[32m━━━━━━━━━━━━━━━━━━━━\u001b[0m\u001b[37m\u001b[0m \u001b[1m2s\u001b[0m 567us/step - accuracy: 0.6031 - f1_score: 0.7190 - loss: 0.7101 - val_accuracy: 0.4927 - val_f1_score: 0.6656 - val_loss: 0.7122\n",
            "Epoch 26/50\n",
            "\u001b[1m4323/4323\u001b[0m \u001b[32m━━━━━━━━━━━━━━━━━━━━\u001b[0m\u001b[37m\u001b[0m \u001b[1m2s\u001b[0m 556us/step - accuracy: 0.6083 - f1_score: 0.7189 - loss: 0.6991 - val_accuracy: 0.7097 - val_f1_score: 0.6656 - val_loss: 0.7477\n",
            "Epoch 27/50\n",
            "\u001b[1m4323/4323\u001b[0m \u001b[32m━━━━━━━━━━━━━━━━━━━━\u001b[0m\u001b[37m\u001b[0m \u001b[1m2s\u001b[0m 562us/step - accuracy: 0.6067 - f1_score: 0.7214 - loss: 0.7034 - val_accuracy: 0.4960 - val_f1_score: 0.6656 - val_loss: 0.7525\n",
            "Epoch 28/50\n",
            "\u001b[1m4323/4323\u001b[0m \u001b[32m━━━━━━━━━━━━━━━━━━━━\u001b[0m\u001b[37m\u001b[0m \u001b[1m2s\u001b[0m 562us/step - accuracy: 0.6102 - f1_score: 0.7170 - loss: 0.6935 - val_accuracy: 0.6543 - val_f1_score: 0.6656 - val_loss: 0.6604\n",
            "Epoch 29/50\n",
            "\u001b[1m4323/4323\u001b[0m \u001b[32m━━━━━━━━━━━━━━━━━━━━\u001b[0m\u001b[37m\u001b[0m \u001b[1m2s\u001b[0m 559us/step - accuracy: 0.6060 - f1_score: 0.7189 - loss: 0.7052 - val_accuracy: 0.7088 - val_f1_score: 0.6656 - val_loss: 0.8497\n",
            "Epoch 30/50\n",
            "\u001b[1m4323/4323\u001b[0m \u001b[32m━━━━━━━━━━━━━━━━━━━━\u001b[0m\u001b[37m\u001b[0m \u001b[1m2s\u001b[0m 560us/step - accuracy: 0.6060 - f1_score: 0.7201 - loss: 0.7076 - val_accuracy: 0.5888 - val_f1_score: 0.6656 - val_loss: 0.6540\n",
            "Epoch 31/50\n",
            "\u001b[1m4323/4323\u001b[0m \u001b[32m━━━━━━━━━━━━━━━━━━━━\u001b[0m\u001b[37m\u001b[0m \u001b[1m2s\u001b[0m 562us/step - accuracy: 0.6032 - f1_score: 0.7202 - loss: 0.7023 - val_accuracy: 0.5145 - val_f1_score: 0.6656 - val_loss: 0.6754\n",
            "Epoch 32/50\n",
            "\u001b[1m4323/4323\u001b[0m \u001b[32m━━━━━━━━━━━━━━━━━━━━\u001b[0m\u001b[37m\u001b[0m \u001b[1m2s\u001b[0m 562us/step - accuracy: 0.6087 - f1_score: 0.7222 - loss: 0.6932 - val_accuracy: 0.6365 - val_f1_score: 0.6656 - val_loss: 0.6371\n",
            "Epoch 33/50\n",
            "\u001b[1m4323/4323\u001b[0m \u001b[32m━━━━━━━━━━━━━━━━━━━━\u001b[0m\u001b[37m\u001b[0m \u001b[1m2s\u001b[0m 561us/step - accuracy: 0.5954 - f1_score: 0.7185 - loss: 0.7186 - val_accuracy: 0.7198 - val_f1_score: 0.6656 - val_loss: 0.8341\n",
            "Epoch 34/50\n",
            "\u001b[1m4323/4323\u001b[0m \u001b[32m━━━━━━━━━━━━━━━━━━━━\u001b[0m\u001b[37m\u001b[0m \u001b[1m2s\u001b[0m 559us/step - accuracy: 0.6073 - f1_score: 0.7168 - loss: 0.7055 - val_accuracy: 0.4988 - val_f1_score: 0.6656 - val_loss: 0.9219\n",
            "Epoch 35/50\n",
            "\u001b[1m4323/4323\u001b[0m \u001b[32m━━━━━━━━━━━━━━━━━━━━\u001b[0m\u001b[37m\u001b[0m \u001b[1m2s\u001b[0m 563us/step - accuracy: 0.6118 - f1_score: 0.7200 - loss: 0.6941 - val_accuracy: 0.6796 - val_f1_score: 0.6656 - val_loss: 0.6738\n",
            "Epoch 36/50\n",
            "\u001b[1m4323/4323\u001b[0m \u001b[32m━━━━━━━━━━━━━━━━━━━━\u001b[0m\u001b[37m\u001b[0m \u001b[1m2s\u001b[0m 562us/step - accuracy: 0.6010 - f1_score: 0.7175 - loss: 0.7064 - val_accuracy: 0.6933 - val_f1_score: 0.6656 - val_loss: 0.6723\n",
            "Epoch 37/50\n",
            "\u001b[1m4323/4323\u001b[0m \u001b[32m━━━━━━━━━━━━━━━━━━━━\u001b[0m\u001b[37m\u001b[0m \u001b[1m2s\u001b[0m 563us/step - accuracy: 0.6064 - f1_score: 0.7209 - loss: 0.7099 - val_accuracy: 0.5983 - val_f1_score: 0.6656 - val_loss: 0.6534\n",
            "Epoch 38/50\n",
            "\u001b[1m4323/4323\u001b[0m \u001b[32m━━━━━━━━━━━━━━━━━━━━\u001b[0m\u001b[37m\u001b[0m \u001b[1m3s\u001b[0m 578us/step - accuracy: 0.6085 - f1_score: 0.7181 - loss: 0.6935 - val_accuracy: 0.7265 - val_f1_score: 0.6656 - val_loss: 0.7304\n",
            "Epoch 39/50\n",
            "\u001b[1m4323/4323\u001b[0m \u001b[32m━━━━━━━━━━━━━━━━━━━━\u001b[0m\u001b[37m\u001b[0m \u001b[1m3s\u001b[0m 577us/step - accuracy: 0.6038 - f1_score: 0.7189 - loss: 0.6964 - val_accuracy: 0.7127 - val_f1_score: 0.6656 - val_loss: 0.9073\n",
            "Epoch 40/50\n",
            "\u001b[1m4323/4323\u001b[0m \u001b[32m━━━━━━━━━━━━━━━━━━━━\u001b[0m\u001b[37m\u001b[0m \u001b[1m2s\u001b[0m 563us/step - accuracy: 0.6021 - f1_score: 0.7178 - loss: 0.7048 - val_accuracy: 0.5890 - val_f1_score: 0.6656 - val_loss: 0.6457\n",
            "Epoch 41/50\n",
            "\u001b[1m4323/4323\u001b[0m \u001b[32m━━━━━━━━━━━━━━━━━━━━\u001b[0m\u001b[37m\u001b[0m \u001b[1m2s\u001b[0m 564us/step - accuracy: 0.6084 - f1_score: 0.7157 - loss: 0.7042 - val_accuracy: 0.6350 - val_f1_score: 0.6656 - val_loss: 0.6336\n",
            "Epoch 42/50\n",
            "\u001b[1m4323/4323\u001b[0m \u001b[32m━━━━━━━━━━━━━━━━━━━━\u001b[0m\u001b[37m\u001b[0m \u001b[1m2s\u001b[0m 567us/step - accuracy: 0.6053 - f1_score: 0.7187 - loss: 0.7104 - val_accuracy: 0.6883 - val_f1_score: 0.6656 - val_loss: 0.6534\n",
            "Epoch 43/50\n",
            "\u001b[1m4323/4323\u001b[0m \u001b[32m━━━━━━━━━━━━━━━━━━━━\u001b[0m\u001b[37m\u001b[0m \u001b[1m2s\u001b[0m 561us/step - accuracy: 0.6100 - f1_score: 0.7193 - loss: 0.7014 - val_accuracy: 0.6196 - val_f1_score: 0.6656 - val_loss: 0.6432\n",
            "Epoch 44/50\n",
            "\u001b[1m4323/4323\u001b[0m \u001b[32m━━━━━━━━━━━━━━━━━━━━\u001b[0m\u001b[37m\u001b[0m \u001b[1m2s\u001b[0m 564us/step - accuracy: 0.6084 - f1_score: 0.7201 - loss: 0.6990 - val_accuracy: 0.7065 - val_f1_score: 0.6656 - val_loss: 1.0356\n",
            "Epoch 45/50\n",
            "\u001b[1m4323/4323\u001b[0m \u001b[32m━━━━━━━━━━━━━━━━━━━━\u001b[0m\u001b[37m\u001b[0m \u001b[1m2s\u001b[0m 560us/step - accuracy: 0.6067 - f1_score: 0.7159 - loss: 0.6977 - val_accuracy: 0.5201 - val_f1_score: 0.6656 - val_loss: 0.6703\n",
            "Epoch 46/50\n",
            "\u001b[1m4323/4323\u001b[0m \u001b[32m━━━━━━━━━━━━━━━━━━━━\u001b[0m\u001b[37m\u001b[0m \u001b[1m2s\u001b[0m 559us/step - accuracy: 0.6167 - f1_score: 0.7221 - loss: 0.6901 - val_accuracy: 0.5633 - val_f1_score: 0.6656 - val_loss: 0.6808\n",
            "Epoch 47/50\n",
            "\u001b[1m4323/4323\u001b[0m \u001b[32m━━━━━━━━━━━━━━━━━━━━\u001b[0m\u001b[37m\u001b[0m \u001b[1m2s\u001b[0m 562us/step - accuracy: 0.6095 - f1_score: 0.7165 - loss: 0.6990 - val_accuracy: 0.6378 - val_f1_score: 0.6656 - val_loss: 0.6499\n",
            "Epoch 48/50\n",
            "\u001b[1m4323/4323\u001b[0m \u001b[32m━━━━━━━━━━━━━━━━━━━━\u001b[0m\u001b[37m\u001b[0m \u001b[1m2s\u001b[0m 567us/step - accuracy: 0.6096 - f1_score: 0.7193 - loss: 0.7071 - val_accuracy: 0.5406 - val_f1_score: 0.6656 - val_loss: 0.6607\n",
            "Epoch 49/50\n",
            "\u001b[1m4323/4323\u001b[0m \u001b[32m━━━━━━━━━━━━━━━━━━━━\u001b[0m\u001b[37m\u001b[0m \u001b[1m2s\u001b[0m 560us/step - accuracy: 0.6097 - f1_score: 0.7180 - loss: 0.7071 - val_accuracy: 0.7088 - val_f1_score: 0.6656 - val_loss: 0.8725\n",
            "Epoch 50/50\n",
            "\u001b[1m4323/4323\u001b[0m \u001b[32m━━━━━━━━━━━━━━━━━━━━\u001b[0m\u001b[37m\u001b[0m \u001b[1m2s\u001b[0m 563us/step - accuracy: 0.6069 - f1_score: 0.7224 - loss: 0.7028 - val_accuracy: 0.7162 - val_f1_score: 0.6656 - val_loss: 0.7076\n"
          ]
        },
        {
          "data": {
            "text/plain": [
              "<keras.src.callbacks.history.History at 0x1fd72c5b530>"
            ]
          },
          "execution_count": 15,
          "metadata": {},
          "output_type": "execute_result"
        }
      ],
      "source": [
        "# Realizando treinamento do modelo, com base nas condições fornecidas\n",
        "model.fit(X_train, y_train, epochs=50, batch_size=10, validation_data=(X_test, y_test))"
      ]
    },
    {
      "cell_type": "markdown",
      "metadata": {
        "id": "Afqk1eq_GKJk"
      },
      "source": [
        "Teste do modelo treinado, fornecendo tanto acurácia quanto o F1 Score:"
      ]
    },
    {
      "cell_type": "code",
      "execution_count": 16,
      "metadata": {
        "colab": {
          "base_uri": "https://localhost:8080/"
        },
        "id": "bC5R577cGRIE",
        "outputId": "fc182d34-c927-4314-b08b-1c0729d2fd38"
      },
      "outputs": [
        {
          "name": "stdout",
          "output_type": "stream",
          "text": [
            "\u001b[1m338/338\u001b[0m \u001b[32m━━━━━━━━━━━━━━━━━━━━\u001b[0m\u001b[37m\u001b[0m \u001b[1m0s\u001b[0m 423us/step - accuracy: 0.7012 - f1_score: 0.4774 - loss: 0.7585 \n"
          ]
        }
      ],
      "source": [
        "# Utilização e avaliação do modelo treinado com base no conjunto de teste\n",
        "results = model.evaluate(X_test, y_test)"
      ]
    },
    {
      "cell_type": "markdown",
      "metadata": {
        "id": "ySjoUxBRN8GU"
      },
      "source": [
        "## Análise dos resultados e possíveis melhorias"
      ]
    },
    {
      "cell_type": "markdown",
      "metadata": {},
      "source": [
        "O modelo alcançou uma acurácia de cerca de 0.70 e um F1 Score de aproximadamente 0.48. Isso significa que o modelo acerta em 70% dos casos ao identificar se um cogumelo é venenoso ou não. E o F1 Score de 0,48 indica que o modelo está alcançando um certo equilíbrio entre precisão e capacidade de detectar corretamente os casos positivos."
      ]
    },
    {
      "cell_type": "markdown",
      "metadata": {
        "id": "FXrYPd9uegQZ"
      },
      "source": [
        "Na minha visão, o modelo obteve resultados razoáveis considerando sua simplicidade , mas ainda há grande espaço para melhoras.\n"
      ]
    },
    {
      "cell_type": "markdown",
      "metadata": {
        "id": "zT3tc-koe9DE"
      },
      "source": [
        "Sendo algumas possíveis melhorias que poderiam ser implementadas:\n",
        "\n",
        "\n",
        "* Avaliação do modelo através do recall, uma vez que essa métrica da grande pesos aos falsos negativos, que no contexto da atividade são os mais nocivos uma vez que deixa cogumelos venenosos passarem despercebidos.\n",
        "\n",
        "* Teste de outras funções de ativação, para ver como elas impactam o modelo.\n",
        "\n",
        "* Teste de outros otimizadores.\n",
        "\n",
        "* Aplicação de tratamento nos dados como one hot encoding e normalização.\n",
        "\n",
        "* E principalmente a adição de mais camadas no modelo, para um melhor aproveitamento da diversidade de características fornecidas.\n"
      ]
    }
  ],
  "metadata": {
    "colab": {
      "provenance": []
    },
    "kernelspec": {
      "display_name": "Python 3",
      "name": "python3"
    },
    "language_info": {
      "codemirror_mode": {
        "name": "ipython",
        "version": 3
      },
      "file_extension": ".py",
      "mimetype": "text/x-python",
      "name": "python",
      "nbconvert_exporter": "python",
      "pygments_lexer": "ipython3",
      "version": "3.12.5"
    }
  },
  "nbformat": 4,
  "nbformat_minor": 0
}
